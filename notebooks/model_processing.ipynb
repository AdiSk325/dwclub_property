{
 "cells": [
  {
   "cell_type": "code",
   "execution_count": 1,
   "id": "private-container",
   "metadata": {
    "ExecuteTime": {
     "end_time": "2022-05-28T17:37:09.326225Z",
     "start_time": "2022-05-28T17:37:09.306760Z"
    }
   },
   "outputs": [],
   "source": [
    "from pathlib import Path\n",
    "import sys\n",
    "\n",
    "PROJECT_DIR = Path('..').resolve()\n",
    "sys.path.append(str(PROJECT_DIR))\n",
    "\n",
    "%load_ext autoreload \n",
    "%autoreload 2"
   ]
  },
  {
   "cell_type": "code",
   "execution_count": 2,
   "id": "received-berkeley",
   "metadata": {
    "ExecuteTime": {
     "end_time": "2022-05-28T17:37:12.367083Z",
     "start_time": "2022-05-28T17:37:09.392841Z"
    }
   },
   "outputs": [],
   "source": [
    "from sklearn.metrics import mean_absolute_error\n",
    "from sklearn.model_selection import cross_val_score\n",
    "\n",
    "from sklearn.dummy import DummyRegressor\n",
    "import xgboost as xgb\n",
    "import gc\n",
    "\n",
    "import numpy as np\n",
    "import pandas as pd\n",
    "np.random.seed(0)\n",
    "\n",
    "import mlflow\n",
    "import eli5\n",
    "\n",
    "import seaborn as sns\n",
    "import utils.helper as h\n",
    "import utils.mlflow_helper as flow_h"
   ]
  },
  {
   "cell_type": "markdown",
   "id": "incoming-margin",
   "metadata": {
    "ExecuteTime": {
     "end_time": "2022-05-27T18:38:06.468640Z",
     "start_time": "2022-05-27T18:38:06.442292Z"
    }
   },
   "source": [
    "## Przygotowanie danych"
   ]
  },
  {
   "cell_type": "code",
   "execution_count": 3,
   "id": "occasional-fountain",
   "metadata": {
    "ExecuteTime": {
     "end_time": "2022-05-28T17:37:14.171699Z",
     "start_time": "2022-05-28T17:37:12.442311Z"
    }
   },
   "outputs": [],
   "source": [
    "df_train, df_test, df_all = h.get_data(h.Const.INPUT_DIR)"
   ]
  },
  {
   "cell_type": "code",
   "execution_count": 4,
   "id": "covered-conservation",
   "metadata": {
    "ExecuteTime": {
     "end_time": "2022-05-28T17:37:51.809569Z",
     "start_time": "2022-05-28T17:37:14.204563Z"
    }
   },
   "outputs": [],
   "source": [
    "df_all = h.preprocessing_data(df_all)\n",
    "# h.save_to_interim(df_all)"
   ]
  },
  {
   "cell_type": "markdown",
   "id": "ready-venue",
   "metadata": {},
   "source": [
    "## Modelowanie"
   ]
  },
  {
   "cell_type": "code",
   "execution_count": 5,
   "id": "utility-continent",
   "metadata": {
    "ExecuteTime": {
     "end_time": "2022-05-28T17:37:51.886495Z",
     "start_time": "2022-05-28T17:37:51.842965Z"
    }
   },
   "outputs": [],
   "source": [
    "flow_h.get_or_create_experiment(\"dwsolution_property\");"
   ]
  },
  {
   "cell_type": "code",
   "execution_count": 6,
   "id": "weighted-cambodia",
   "metadata": {
    "ExecuteTime": {
     "end_time": "2022-05-28T17:37:51.966289Z",
     "start_time": "2022-05-28T17:37:51.925777Z"
    }
   },
   "outputs": [],
   "source": [
    "h.Const.BLACK_LIST.remove('price_median')"
   ]
  },
  {
   "cell_type": "code",
   "execution_count": 7,
   "id": "protective-transcript",
   "metadata": {
    "ExecuteTime": {
     "end_time": "2022-05-28T17:37:52.168304Z",
     "start_time": "2022-05-28T17:37:52.002330Z"
    }
   },
   "outputs": [],
   "source": [
    "feats = df_all.select_dtypes([\"number\", 'boolean']).columns\n",
    "feats = list(feats.drop(h.Const.BLACK_LIST))"
   ]
  },
  {
   "cell_type": "code",
   "execution_count": 8,
   "id": "super-dimension",
   "metadata": {
    "ExecuteTime": {
     "end_time": "2022-05-28T17:37:52.244531Z",
     "start_time": "2022-05-28T17:37:52.203664Z"
    }
   },
   "outputs": [],
   "source": [
    "# Co mogę zmieniać w eksperymentach? \n",
    "h.Const.TARGET_NAME = 'price'\n",
    "model = xgb.XGBRegressor(max_depth=8, n_estimators=400, random_state=0)\n",
    "convert_target_method = 'log1p'"
   ]
  },
  {
   "cell_type": "code",
   "execution_count": 9,
   "id": "clear-steel",
   "metadata": {
    "ExecuteTime": {
     "end_time": "2022-05-28T17:40:26.125486Z",
     "start_time": "2022-05-28T17:37:52.280760Z"
    }
   },
   "outputs": [
    {
     "name": "stdout",
     "output_type": "stream",
     "text": [
      "(13947, 152) (46275, 151)\n"
     ]
    }
   ],
   "source": [
    "flow_h.mlflow_start_run(\n",
    "    df=df_all, \n",
    "    model=model, \n",
    "    feats=feats, \n",
    "    target=h.Const.TARGET_NAME,\n",
    "    convert_target_method=convert_target_method, \n",
    ")"
   ]
  },
  {
   "cell_type": "code",
   "execution_count": 10,
   "id": "original-convenience",
   "metadata": {
    "ExecuteTime": {
     "end_time": "2022-05-28T17:40:55.556406Z",
     "start_time": "2022-05-28T17:40:26.176258Z"
    }
   },
   "outputs": [
    {
     "name": "stdout",
     "output_type": "stream",
     "text": [
      "(13947, 152) (46275, 151)\n"
     ]
    },
    {
     "data": {
      "text/plain": [
       "XGBRegressor(base_score=0.5, booster='gbtree', colsample_bylevel=1,\n",
       "             colsample_bynode=1, colsample_bytree=1, gamma=0, gpu_id=-1,\n",
       "             importance_type='gain', interaction_constraints='',\n",
       "             learning_rate=0.300000012, max_delta_step=0, max_depth=8,\n",
       "             min_child_weight=1, missing=nan, monotone_constraints='()',\n",
       "             n_estimators=400, n_jobs=0, num_parallel_tree=1, random_state=0,\n",
       "             reg_alpha=0, reg_lambda=1, scale_pos_weight=1, subsample=1,\n",
       "             tree_method='exact', validate_parameters=1, verbosity=None)"
      ]
     },
     "execution_count": 10,
     "metadata": {},
     "output_type": "execute_result"
    }
   ],
   "source": [
    "X_train, X_test, y_train = h.get_X_y(df_all, feats, h.Const.TARGET_NAME)\n",
    "y_train = flow_h.convert_target(y_train, method=convert_target_method)\n",
    "model.fit(X_train, y_train)"
   ]
  },
  {
   "cell_type": "markdown",
   "id": "intelligent-geology",
   "metadata": {},
   "source": [
    "## Zapisanie predykcji"
   ]
  },
  {
   "cell_type": "code",
   "execution_count": 12,
   "id": "enabling-operator",
   "metadata": {
    "ExecuteTime": {
     "end_time": "2022-05-28T17:43:02.479758Z",
     "start_time": "2022-05-28T17:43:02.356442Z"
    }
   },
   "outputs": [],
   "source": [
    "df_train, df_test = h.split_df_all_to_train_test(df_all)"
   ]
  },
  {
   "cell_type": "code",
   "execution_count": 14,
   "id": "fabulous-gather",
   "metadata": {
    "ExecuteTime": {
     "end_time": "2022-05-28T17:43:26.863824Z",
     "start_time": "2022-05-28T17:43:25.693410Z"
    }
   },
   "outputs": [],
   "source": [
    "df_test.loc[:, 'price'] = flow_h.unconvert_target(model.predict(X_test), method=convert_target_method)\n",
    "    \n",
    "if h.Const.TARGET_NAME=='price_m2':\n",
    "    df_test.loc[:, 'price'] = df_test['price']*df_test['area_norm']"
   ]
  },
  {
   "cell_type": "code",
   "execution_count": 15,
   "id": "loaded-freeze",
   "metadata": {
    "ExecuteTime": {
     "end_time": "2022-05-28T17:43:26.963474Z",
     "start_time": "2022-05-28T17:43:26.902063Z"
    }
   },
   "outputs": [
    {
     "data": {
      "text/plain": [
       "count    4.627500e+04\n",
       "mean     3.756072e+05\n",
       "std      2.735151e+05\n",
       "min      2.160057e+04\n",
       "25%      2.340789e+05\n",
       "50%      3.153389e+05\n",
       "75%      4.308963e+05\n",
       "max      8.728767e+06\n",
       "Name: price, dtype: float64"
      ]
     },
     "execution_count": 15,
     "metadata": {},
     "output_type": "execute_result"
    }
   ],
   "source": [
    "df_test['price'].describe()"
   ]
  },
  {
   "cell_type": "code",
   "execution_count": 16,
   "id": "finished-castle",
   "metadata": {
    "ExecuteTime": {
     "end_time": "2022-05-28T17:43:29.523795Z",
     "start_time": "2022-05-28T17:43:29.473342Z"
    }
   },
   "outputs": [],
   "source": [
    "df_test = h.overwrite_prediction_by_data_leak(df_test)"
   ]
  },
  {
   "cell_type": "code",
   "execution_count": 17,
   "id": "acting-disco",
   "metadata": {
    "ExecuteTime": {
     "end_time": "2022-05-28T17:43:35.342742Z",
     "start_time": "2022-05-28T17:43:35.196592Z"
    }
   },
   "outputs": [],
   "source": [
    "df_test[['id', 'price']].to_csv('../output/xgb_md8_ne400_log1p_price+.csv', index=False) "
   ]
  }
 ],
 "metadata": {
  "kernelspec": {
   "display_name": "Python 3",
   "language": "python",
   "name": "python3"
  },
  "language_info": {
   "codemirror_mode": {
    "name": "ipython",
    "version": 3
   },
   "file_extension": ".py",
   "mimetype": "text/x-python",
   "name": "python",
   "nbconvert_exporter": "python",
   "pygments_lexer": "ipython3",
   "version": "3.8.6"
  }
 },
 "nbformat": 4,
 "nbformat_minor": 5
}
